{
 "cells": [
  {
   "cell_type": "code",
   "execution_count": 10,
   "id": "4a31ae44",
   "metadata": {},
   "outputs": [
    {
     "data": {
      "text/html": [
       "<div>\n",
       "<style scoped>\n",
       "    .dataframe tbody tr th:only-of-type {\n",
       "        vertical-align: middle;\n",
       "    }\n",
       "\n",
       "    .dataframe tbody tr th {\n",
       "        vertical-align: top;\n",
       "    }\n",
       "\n",
       "    .dataframe thead th {\n",
       "        text-align: right;\n",
       "    }\n",
       "</style>\n",
       "<table border=\"1\" class=\"dataframe\">\n",
       "  <thead>\n",
       "    <tr style=\"text-align: right;\">\n",
       "      <th></th>\n",
       "      <th>Client ID</th>\n",
       "      <th>Transaction Amount</th>\n",
       "      <th>Location</th>\n",
       "      <th>Transaction Date</th>\n",
       "    </tr>\n",
       "  </thead>\n",
       "  <tbody>\n",
       "    <tr>\n",
       "      <th>0</th>\n",
       "      <td>1001</td>\n",
       "      <td>50.35</td>\n",
       "      <td>New York</td>\n",
       "      <td>2023-07-12</td>\n",
       "    </tr>\n",
       "    <tr>\n",
       "      <th>1</th>\n",
       "      <td>1002</td>\n",
       "      <td>100.20</td>\n",
       "      <td>Los Angeles</td>\n",
       "      <td>2023-07-10</td>\n",
       "    </tr>\n",
       "    <tr>\n",
       "      <th>2</th>\n",
       "      <td>1003</td>\n",
       "      <td>75.10</td>\n",
       "      <td>Miami</td>\n",
       "      <td>2023-07-09</td>\n",
       "    </tr>\n",
       "    <tr>\n",
       "      <th>3</th>\n",
       "      <td>1004</td>\n",
       "      <td>500.75</td>\n",
       "      <td>San Francisco</td>\n",
       "      <td>2023-07-08</td>\n",
       "    </tr>\n",
       "  </tbody>\n",
       "</table>\n",
       "</div>"
      ],
      "text/plain": [
       "   Client ID  Transaction Amount       Location Transaction Date\n",
       "0       1001               50.35       New York       2023-07-12\n",
       "1       1002              100.20    Los Angeles       2023-07-10\n",
       "2       1003               75.10          Miami       2023-07-09\n",
       "3       1004              500.75  San Francisco       2023-07-08"
      ]
     },
     "execution_count": 10,
     "metadata": {},
     "output_type": "execute_result"
    }
   ],
   "source": [
    "import pandas as pd\n",
    "import networkx as nx\n",
    "import community as community_louvain\n",
    "import community.community_louvain as community_louvain\n",
    "\n",
    "# Sample data\n",
    "data = {\n",
    "    'Client ID': [1001, 1002, 1003, 1004],\n",
    "    'Transaction Amount': [50.35, 100.20, 75.10, 500.75],\n",
    "    'Location': ['New York', 'Los Angeles', 'Miami', 'San Francisco'],\n",
    "    'Transaction Date': ['2023-07-12', '2023-07-10', '2023-07-09', '2023-07-08']\n",
    "}\n",
    "\n",
    "# Create DataFrame\n",
    "df = pd.DataFrame(data)\n",
    "df"
   ]
  },
  {
   "cell_type": "code",
   "execution_count": 11,
   "id": "69820a60",
   "metadata": {},
   "outputs": [],
   "source": [
    "# Convert 'Transaction Date' to datetime\n",
    "df['Transaction Date'] = pd.to_datetime(df['Transaction Date'])"
   ]
  },
  {
   "cell_type": "code",
   "execution_count": 12,
   "id": "2e4e50c8",
   "metadata": {},
   "outputs": [],
   "source": [
    "# Construct the graph\n",
    "G = nx.Graph()"
   ]
  },
  {
   "cell_type": "code",
   "execution_count": 14,
   "id": "eccbde2d",
   "metadata": {},
   "outputs": [
    {
     "data": {
      "text/plain": [
       "<networkx.classes.graph.Graph at 0x213026d3a90>"
      ]
     },
     "execution_count": 14,
     "metadata": {},
     "output_type": "execute_result"
    }
   ],
   "source": [
    "G"
   ]
  },
  {
   "cell_type": "code",
   "execution_count": 15,
   "id": "ff3986b1",
   "metadata": {},
   "outputs": [],
   "source": [
    "# Add nodes (clients) to the graph\n",
    "G.add_nodes_from(df['Client ID'])"
   ]
  },
  {
   "cell_type": "code",
   "execution_count": 16,
   "id": "be923881",
   "metadata": {},
   "outputs": [],
   "source": [
    "# Add edges (transactions) between clients based on the same location and date\n",
    "for i, row1 in df.iterrows():\n",
    "    for j, row2 in df.iterrows():\n",
    "        if i != j and row1['Location'] == row2['Location'] and row1['Transaction Date'] == row2['Transaction Date']:\n",
    "            G.add_edge(row1['Client ID'], row2['Client ID'])"
   ]
  },
  {
   "cell_type": "code",
   "execution_count": 18,
   "id": "1b158402",
   "metadata": {},
   "outputs": [
    {
     "data": {
      "text/html": [
       "<div>\n",
       "<style scoped>\n",
       "    .dataframe tbody tr th:only-of-type {\n",
       "        vertical-align: middle;\n",
       "    }\n",
       "\n",
       "    .dataframe tbody tr th {\n",
       "        vertical-align: top;\n",
       "    }\n",
       "\n",
       "    .dataframe thead th {\n",
       "        text-align: right;\n",
       "    }\n",
       "</style>\n",
       "<table border=\"1\" class=\"dataframe\">\n",
       "  <thead>\n",
       "    <tr style=\"text-align: right;\">\n",
       "      <th></th>\n",
       "      <th>Client ID</th>\n",
       "      <th>Transaction Amount</th>\n",
       "      <th>Location</th>\n",
       "      <th>Transaction Date</th>\n",
       "    </tr>\n",
       "  </thead>\n",
       "  <tbody>\n",
       "    <tr>\n",
       "      <th>0</th>\n",
       "      <td>1001</td>\n",
       "      <td>50.35</td>\n",
       "      <td>New York</td>\n",
       "      <td>2023-07-12</td>\n",
       "    </tr>\n",
       "    <tr>\n",
       "      <th>1</th>\n",
       "      <td>1002</td>\n",
       "      <td>100.20</td>\n",
       "      <td>Los Angeles</td>\n",
       "      <td>2023-07-10</td>\n",
       "    </tr>\n",
       "    <tr>\n",
       "      <th>2</th>\n",
       "      <td>1003</td>\n",
       "      <td>75.10</td>\n",
       "      <td>Miami</td>\n",
       "      <td>2023-07-09</td>\n",
       "    </tr>\n",
       "    <tr>\n",
       "      <th>3</th>\n",
       "      <td>1004</td>\n",
       "      <td>500.75</td>\n",
       "      <td>San Francisco</td>\n",
       "      <td>2023-07-08</td>\n",
       "    </tr>\n",
       "  </tbody>\n",
       "</table>\n",
       "</div>"
      ],
      "text/plain": [
       "   Client ID  Transaction Amount       Location Transaction Date\n",
       "0       1001               50.35       New York       2023-07-12\n",
       "1       1002              100.20    Los Angeles       2023-07-10\n",
       "2       1003               75.10          Miami       2023-07-09\n",
       "3       1004              500.75  San Francisco       2023-07-08"
      ]
     },
     "execution_count": 18,
     "metadata": {},
     "output_type": "execute_result"
    }
   ],
   "source": [
    "df"
   ]
  },
  {
   "cell_type": "code",
   "execution_count": 21,
   "id": "ba4846dc",
   "metadata": {},
   "outputs": [
    {
     "data": {
      "text/plain": [
       "{1001: 0, 1002: 1, 1003: 2, 1004: 3}"
      ]
     },
     "execution_count": 21,
     "metadata": {},
     "output_type": "execute_result"
    }
   ],
   "source": [
    "# Detect communities using the Louvain algorithm\n",
    "communities = community_louvain.best_partition(G)\n",
    "communities"
   ]
  },
  {
   "cell_type": "code",
   "execution_count": 22,
   "id": "9f9cd14c",
   "metadata": {},
   "outputs": [
    {
     "data": {
      "text/html": [
       "<div>\n",
       "<style scoped>\n",
       "    .dataframe tbody tr th:only-of-type {\n",
       "        vertical-align: middle;\n",
       "    }\n",
       "\n",
       "    .dataframe tbody tr th {\n",
       "        vertical-align: top;\n",
       "    }\n",
       "\n",
       "    .dataframe thead th {\n",
       "        text-align: right;\n",
       "    }\n",
       "</style>\n",
       "<table border=\"1\" class=\"dataframe\">\n",
       "  <thead>\n",
       "    <tr style=\"text-align: right;\">\n",
       "      <th></th>\n",
       "      <th>Client ID</th>\n",
       "      <th>Transaction Amount</th>\n",
       "      <th>Location</th>\n",
       "      <th>Transaction Date</th>\n",
       "      <th>Community</th>\n",
       "    </tr>\n",
       "  </thead>\n",
       "  <tbody>\n",
       "    <tr>\n",
       "      <th>0</th>\n",
       "      <td>1001</td>\n",
       "      <td>50.35</td>\n",
       "      <td>New York</td>\n",
       "      <td>2023-07-12</td>\n",
       "      <td>0</td>\n",
       "    </tr>\n",
       "    <tr>\n",
       "      <th>1</th>\n",
       "      <td>1002</td>\n",
       "      <td>100.20</td>\n",
       "      <td>Los Angeles</td>\n",
       "      <td>2023-07-10</td>\n",
       "      <td>1</td>\n",
       "    </tr>\n",
       "    <tr>\n",
       "      <th>2</th>\n",
       "      <td>1003</td>\n",
       "      <td>75.10</td>\n",
       "      <td>Miami</td>\n",
       "      <td>2023-07-09</td>\n",
       "      <td>2</td>\n",
       "    </tr>\n",
       "    <tr>\n",
       "      <th>3</th>\n",
       "      <td>1004</td>\n",
       "      <td>500.75</td>\n",
       "      <td>San Francisco</td>\n",
       "      <td>2023-07-08</td>\n",
       "      <td>3</td>\n",
       "    </tr>\n",
       "  </tbody>\n",
       "</table>\n",
       "</div>"
      ],
      "text/plain": [
       "   Client ID  Transaction Amount       Location Transaction Date  Community\n",
       "0       1001               50.35       New York       2023-07-12          0\n",
       "1       1002              100.20    Los Angeles       2023-07-10          1\n",
       "2       1003               75.10          Miami       2023-07-09          2\n",
       "3       1004              500.75  San Francisco       2023-07-08          3"
      ]
     },
     "execution_count": 22,
     "metadata": {},
     "output_type": "execute_result"
    }
   ],
   "source": [
    "# Assign community labels to the DataFrame\n",
    "df['Community'] = df['Client ID'].map(communities)\n",
    "df"
   ]
  },
  {
   "cell_type": "code",
   "execution_count": 29,
   "id": "5c7f06bc",
   "metadata": {},
   "outputs": [
    {
     "data": {
      "text/html": [
       "<div>\n",
       "<style scoped>\n",
       "    .dataframe tbody tr th:only-of-type {\n",
       "        vertical-align: middle;\n",
       "    }\n",
       "\n",
       "    .dataframe tbody tr th {\n",
       "        vertical-align: top;\n",
       "    }\n",
       "\n",
       "    .dataframe thead tr th {\n",
       "        text-align: left;\n",
       "    }\n",
       "</style>\n",
       "<table border=\"1\" class=\"dataframe\">\n",
       "  <thead>\n",
       "    <tr>\n",
       "      <th></th>\n",
       "      <th>Community</th>\n",
       "      <th colspan=\"3\" halign=\"left\">Transaction Amount</th>\n",
       "    </tr>\n",
       "    <tr>\n",
       "      <th></th>\n",
       "      <th></th>\n",
       "      <th>mean</th>\n",
       "      <th>std</th>\n",
       "      <th>count</th>\n",
       "    </tr>\n",
       "  </thead>\n",
       "  <tbody>\n",
       "    <tr>\n",
       "      <th>0</th>\n",
       "      <td>0</td>\n",
       "      <td>50.35</td>\n",
       "      <td>NaN</td>\n",
       "      <td>1</td>\n",
       "    </tr>\n",
       "    <tr>\n",
       "      <th>1</th>\n",
       "      <td>1</td>\n",
       "      <td>100.20</td>\n",
       "      <td>NaN</td>\n",
       "      <td>1</td>\n",
       "    </tr>\n",
       "    <tr>\n",
       "      <th>2</th>\n",
       "      <td>2</td>\n",
       "      <td>75.10</td>\n",
       "      <td>NaN</td>\n",
       "      <td>1</td>\n",
       "    </tr>\n",
       "    <tr>\n",
       "      <th>3</th>\n",
       "      <td>3</td>\n",
       "      <td>500.75</td>\n",
       "      <td>NaN</td>\n",
       "      <td>1</td>\n",
       "    </tr>\n",
       "  </tbody>\n",
       "</table>\n",
       "</div>"
      ],
      "text/plain": [
       "  Community Transaction Amount          \n",
       "                          mean std count\n",
       "0         0              50.35 NaN     1\n",
       "1         1             100.20 NaN     1\n",
       "2         2              75.10 NaN     1\n",
       "3         3             500.75 NaN     1"
      ]
     },
     "execution_count": 29,
     "metadata": {},
     "output_type": "execute_result"
    }
   ],
   "source": [
    "# Calculate community statistics\n",
    "community_stats = df.groupby('Community').agg({\n",
    "    'Transaction Amount': ['mean', 'std', 'count']\n",
    "}).reset_index()\n",
    "\n",
    "community_stats"
   ]
  },
  {
   "cell_type": "code",
   "execution_count": 24,
   "id": "b863f435",
   "metadata": {},
   "outputs": [],
   "source": [
    "# Detect anomalies within each community\n",
    "anomalies = []\n",
    "for i, row in df.iterrows():\n",
    "    community_mean = community_stats.loc[community_stats['Community'] == row['Community'], ('Transaction Amount', 'mean')].values[0]\n",
    "    community_std = community_stats.loc[community_stats['Community'] == row['Community'], ('Transaction Amount', 'std')].values[0]\n",
    "    if abs(row['Transaction Amount'] - community_mean) > 2 * community_std:  # Customize threshold for anomaly detection\n",
    "        anomalies.append(row['Client ID'])"
   ]
  },
  {
   "cell_type": "code",
   "execution_count": 25,
   "id": "80e25522",
   "metadata": {},
   "outputs": [
    {
     "name": "stdout",
     "output_type": "stream",
     "text": [
      "Detected Anomalies:\n",
      "Empty DataFrame\n",
      "Columns: [Client ID, Transaction Amount, Location, Transaction Date, Community]\n",
      "Index: []\n"
     ]
    }
   ],
   "source": [
    "# Display detected anomalies\n",
    "print(\"Detected Anomalies:\")\n",
    "print(df[df['Client ID'].isin(anomalies)][['Client ID', 'Transaction Amount', 'Location', 'Transaction Date', 'Community']])\n"
   ]
  },
  {
   "cell_type": "code",
   "execution_count": 28,
   "id": "0ed3ba00",
   "metadata": {},
   "outputs": [
    {
     "data": {
      "image/png": "[encoded data removed]",
      "text/plain": [
       "<Figure size 640x480 with 1 Axes>"
      ]
     },
     "metadata": {},
     "output_type": "display_data"
    }
   ],
   "source": [
    "# Draw the graph with nodes colored based on their community memberships\n",
    "pos = nx.spring_layout(G, seed=42)  # Layout for node positions\n",
    "node_colors = [communities[node] for node in G.nodes()]\n",
    "nx.draw(G, pos, node_color=node_colors, cmap=plt.cm.jet, with_labels=True, node_size=2000)\n",
    "plt.title('Graph with Communities')\n",
    "plt.show()\n"
   ]
  },
  {
   "cell_type": "code",
   "execution_count": null,
   "id": "23ed0175",
   "metadata": {},
   "outputs": [],
   "source": []
  }
 ],
 "metadata": {
  "kernelspec": {
   "display_name": "Python 3 (ipykernel)",
   "language": "python",
   "name": "python3"
  },
  "language_info": {
   "codemirror_mode": {
    "name": "ipython",
    "version": 3
   },
   "file_extension": ".py",
   "mimetype": "text/x-python",
   "name": "python",
   "nbconvert_exporter": "python",
   "pygments_lexer": "ipython3",
   "version": "3.9.13"
  }
 },
 "nbformat": 4,
 "nbformat_minor": 5
}
